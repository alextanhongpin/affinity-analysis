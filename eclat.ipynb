{
 "cells": [
  {
   "cell_type": "markdown",
   "id": "israeli-metro",
   "metadata": {},
   "source": [
    "# ECLAT Algorithm\n",
    "\n",
    "The ECLAT algorithm stands for _Equivalence Class Clustering and bottom-up Lattice Traversal_. It is one of the popular methods of Association Rule mining. It is a more efficient and scalable version of the Apriori algorithm [^1]\n",
    "\n",
    "[^1]: https://www.geeksforgeeks.org/ml-eclat-algorithm/#:~:text=The%20ECLAT%20algorithm%20stands%20for,version%20of%20the%20Apriori%20algorithm."
   ]
  },
  {
   "cell_type": "code",
   "execution_count": 1,
   "id": "oriented-transfer",
   "metadata": {},
   "outputs": [],
   "source": [
    "from collections import defaultdict\n",
    "from itertools import chain, combinations"
   ]
  },
  {
   "cell_type": "markdown",
   "id": "20b6a64c-f4eb-465a-b230-0b0d029e988f",
   "metadata": {},
   "source": [
    "The `txs` is a list of transactions, each each transaction contains a list of items purchased.\n",
    "\n",
    "For example, in the first transaction, we see the item `beer`, `wine` and `cheese` being purchased. "
   ]
  },
  {
   "cell_type": "code",
   "execution_count": 2,
   "id": "collective-grenada",
   "metadata": {},
   "outputs": [],
   "source": [
    "txs = [{1, 2, 3, 4}, {1, 2, 4}, {1, 2}, {2, 3, 4}, {2, 3}, {3, 4}, {2, 4}]\n",
    "txs = [\n",
    "    [\"beer\", \"wine\", \"cheese\"],\n",
    "    [\"beer\", \"potato chips\"],\n",
    "    [\"eggs\", \"flower\", \"butter\", \"cheese\"],\n",
    "    [\"eggs\", \"flower\", \"butter\", \"beer\", \"potato chips\"],\n",
    "    [\"wine\", \"cheese\"],\n",
    "    [\"potato chips\"],\n",
    "    [\"eggs\", \"flower\", \"butter\", \"wine\", \"cheese\"],\n",
    "    [\"eggs\", \"flower\", \"butter\", \"beer\", \"potato chips\"],\n",
    "    [\"wine\", \"beer\"],\n",
    "    [\"beer\", \"potato chips\"],\n",
    "    [\"butter\", \"eggs\"],\n",
    "    [\"beer\", \"potato chips\"],\n",
    "    [\"flower\", \"eggs\"],\n",
    "    [\"beer\", \"potato chips\"],\n",
    "    [\"eggs\", \"flower\", \"butter\", \"wine\", \"cheese\"],\n",
    "    [\"beer\", \"wine\", \"potato chips\", \"cheese\"],\n",
    "    [\"wine\", \"cheese\"],\n",
    "    [\"beer\", \"potato chips\"],\n",
    "    [\"wine\", \"cheese\"],\n",
    "    [\"beer\", \"potato chips\"],\n",
    "]"
   ]
  },
  {
   "cell_type": "code",
   "execution_count": 3,
   "id": "duplicate-somalia",
   "metadata": {},
   "outputs": [],
   "source": [
    "def eclat(txs: list[list[any]], *, minsup=2) -> defaultdict[frozenset[str], set[int]]:\n",
    "    # For each item, keep a list of the transaction ids the item appears in.\n",
    "    ids_by_item = defaultdict(set)\n",
    "\n",
    "    # Invert the mapping, so that the key are items, and values are txids.\n",
    "    for i, tx in enumerate(txs):\n",
    "        for item in tx:\n",
    "            ids_by_item[frozenset([item])].add(i)\n",
    "\n",
    "    # Exclude items that are below min support.\n",
    "    for item, ids in ids_by_item.copy().items():\n",
    "        if len(ids) < minsup:\n",
    "            ids_by_item.pop(item)\n",
    "\n",
    "    result = ids_by_item\n",
    "    while len(ids_by_item) > 0:\n",
    "        tmp = defaultdict(set)\n",
    "\n",
    "        # Combine each items and their transaction ids.\n",
    "        items = combinations(ids_by_item.keys(), r=2)\n",
    "        for item1, item2 in items:\n",
    "            ids1 = ids_by_item.get(item1)\n",
    "            ids2 = ids_by_item.get(item2)\n",
    "\n",
    "            ids = ids1 & ids2\n",
    "            if len(ids) < minsup:\n",
    "                continue\n",
    "\n",
    "            tmp[item1 | item2] = ids\n",
    "\n",
    "        result.update(tmp)\n",
    "        ids_by_item = tmp\n",
    "\n",
    "    return result"
   ]
  },
  {
   "cell_type": "code",
   "execution_count": 4,
   "id": "weighted-killer",
   "metadata": {
    "tags": []
   },
   "outputs": [
    {
     "data": {
      "text/plain": [
       "defaultdict(set,\n",
       "            {frozenset({'beer'}): {0, 1, 3, 7, 8, 9, 11, 13, 15, 17, 19},\n",
       "             frozenset({'wine'}): {0, 4, 6, 8, 14, 15, 16, 18},\n",
       "             frozenset({'cheese'}): {0, 2, 4, 6, 14, 15, 16, 18},\n",
       "             frozenset({'potato chips'}): {1, 3, 5, 7, 9, 11, 13, 15, 17, 19},\n",
       "             frozenset({'eggs'}): {2, 3, 6, 7, 10, 12, 14},\n",
       "             frozenset({'flower'}): {2, 3, 6, 7, 12, 14},\n",
       "             frozenset({'butter'}): {2, 3, 6, 7, 10, 14},\n",
       "             frozenset({'beer', 'wine'}): {0, 8, 15},\n",
       "             frozenset({'beer', 'cheese'}): {0, 15},\n",
       "             frozenset({'beer', 'potato chips'}): {1,\n",
       "              3,\n",
       "              7,\n",
       "              9,\n",
       "              11,\n",
       "              13,\n",
       "              15,\n",
       "              17,\n",
       "              19},\n",
       "             frozenset({'beer', 'eggs'}): {3, 7},\n",
       "             frozenset({'beer', 'flower'}): {3, 7},\n",
       "             frozenset({'beer', 'butter'}): {3, 7},\n",
       "             frozenset({'cheese', 'wine'}): {0, 4, 6, 14, 15, 16, 18},\n",
       "             frozenset({'eggs', 'wine'}): {6, 14},\n",
       "             frozenset({'flower', 'wine'}): {6, 14},\n",
       "             frozenset({'butter', 'wine'}): {6, 14},\n",
       "             frozenset({'cheese', 'eggs'}): {2, 6, 14},\n",
       "             frozenset({'cheese', 'flower'}): {2, 6, 14},\n",
       "             frozenset({'butter', 'cheese'}): {2, 6, 14},\n",
       "             frozenset({'eggs', 'potato chips'}): {3, 7},\n",
       "             frozenset({'flower', 'potato chips'}): {3, 7},\n",
       "             frozenset({'butter', 'potato chips'}): {3, 7},\n",
       "             frozenset({'eggs', 'flower'}): {2, 3, 6, 7, 12, 14},\n",
       "             frozenset({'butter', 'eggs'}): {2, 3, 6, 7, 10, 14},\n",
       "             frozenset({'butter', 'flower'}): {2, 3, 6, 7, 14},\n",
       "             frozenset({'beer', 'cheese', 'wine'}): {0, 15},\n",
       "             frozenset({'beer', 'eggs', 'potato chips'}): {3, 7},\n",
       "             frozenset({'beer', 'flower', 'potato chips'}): {3, 7},\n",
       "             frozenset({'beer', 'butter', 'potato chips'}): {3, 7},\n",
       "             frozenset({'beer', 'eggs', 'flower', 'potato chips'}): {3, 7},\n",
       "             frozenset({'beer', 'butter', 'eggs', 'potato chips'}): {3, 7},\n",
       "             frozenset({'beer', 'butter', 'flower', 'potato chips'}): {3, 7},\n",
       "             frozenset({'beer', 'eggs', 'flower'}): {3, 7},\n",
       "             frozenset({'beer', 'butter', 'eggs'}): {3, 7},\n",
       "             frozenset({'beer', 'butter', 'eggs', 'flower'}): {3, 7},\n",
       "             frozenset({'beer', 'butter', 'flower'}): {3, 7},\n",
       "             frozenset({'cheese', 'eggs', 'wine'}): {6, 14},\n",
       "             frozenset({'cheese', 'flower', 'wine'}): {6, 14},\n",
       "             frozenset({'butter', 'cheese', 'wine'}): {6, 14},\n",
       "             frozenset({'cheese', 'eggs', 'flower', 'wine'}): {6, 14},\n",
       "             frozenset({'butter', 'cheese', 'eggs', 'wine'}): {6, 14},\n",
       "             frozenset({'butter', 'cheese', 'flower', 'wine'}): {6, 14},\n",
       "             frozenset({'eggs', 'flower', 'wine'}): {6, 14},\n",
       "             frozenset({'butter', 'eggs', 'wine'}): {6, 14},\n",
       "             frozenset({'butter', 'eggs', 'flower', 'wine'}): {6, 14},\n",
       "             frozenset({'butter', 'flower', 'wine'}): {6, 14},\n",
       "             frozenset({'cheese', 'eggs', 'flower'}): {2, 6, 14},\n",
       "             frozenset({'butter', 'cheese', 'eggs'}): {2, 6, 14},\n",
       "             frozenset({'butter', 'cheese', 'eggs', 'flower'}): {2, 6, 14},\n",
       "             frozenset({'butter', 'cheese', 'flower'}): {2, 6, 14},\n",
       "             frozenset({'eggs', 'flower', 'potato chips'}): {3, 7},\n",
       "             frozenset({'butter', 'eggs', 'potato chips'}): {3, 7},\n",
       "             frozenset({'butter', 'eggs', 'flower', 'potato chips'}): {3, 7},\n",
       "             frozenset({'butter', 'flower', 'potato chips'}): {3, 7},\n",
       "             frozenset({'butter', 'eggs', 'flower'}): {2, 3, 6, 7, 14},\n",
       "             frozenset({'beer',\n",
       "                        'butter',\n",
       "                        'eggs',\n",
       "                        'flower',\n",
       "                        'potato chips'}): {3, 7},\n",
       "             frozenset({'butter', 'cheese', 'eggs', 'flower', 'wine'}): {6,\n",
       "              14}})"
      ]
     },
     "execution_count": 4,
     "metadata": {},
     "output_type": "execute_result"
    }
   ],
   "source": [
    "txids_by_items = eclat(txs, minsup=2)\n",
    "txids_by_items"
   ]
  },
  {
   "cell_type": "markdown",
   "id": "bd1d4910-5e7a-4fe9-86ba-a611379c25e9",
   "metadata": {},
   "source": [
    "The result returned is the transaction ids the item appeared in, and the combination of items that fulfills the minimum support. To recommend items that are frequently purchased together, we can just find the combination of the items that fulfills the minimum support, and exclude the item."
   ]
  },
  {
   "cell_type": "code",
   "execution_count": 5,
   "id": "a3af86a7-839f-41c8-80b5-54c6ee43677d",
   "metadata": {
    "tags": []
   },
   "outputs": [],
   "source": [
    "def recommend(txs: list[list[str]], item: str, *, minsup=7) -> frozenset[str]:\n",
    "    item = frozenset([item])\n",
    "    result = eclat(txs, minsup=minsup)\n",
    "\n",
    "    recommend = []\n",
    "    for items in result.keys():\n",
    "        if item & items and items - item:\n",
    "            recommend.append(items - item)\n",
    "\n",
    "    return recommend"
   ]
  },
  {
   "cell_type": "markdown",
   "id": "03dbbe7d-8e7f-4706-b8fc-1ad58b4d3700",
   "metadata": {},
   "source": [
    "Recommend something to go with \"wine\", with at least 3 transactions having that those items purchased together with wine."
   ]
  },
  {
   "cell_type": "code",
   "execution_count": 6,
   "id": "963fa695-6d6b-443a-a351-1116e01c00a9",
   "metadata": {
    "tags": []
   },
   "outputs": [
    {
     "data": {
      "text/plain": [
       "[frozenset({'beer'}), frozenset({'cheese'})]"
      ]
     },
     "execution_count": 6,
     "metadata": {},
     "output_type": "execute_result"
    }
   ],
   "source": [
    "recommend(txs, \"wine\", minsup=3)"
   ]
  },
  {
   "cell_type": "markdown",
   "id": "4c60a21f-5e1e-4a8b-acb5-076b278a87f7",
   "metadata": {
    "tags": []
   },
   "source": [
    "The `minsup` is the number of transactions the combination of items appeared in the transactions. One potential issue is that for large transactions, it is hard to determine the right `minsup` to use. We can perhaps use precentage instead. A `minsup` of 3 for the list of 20 transactions above is just roughly 15%. For a more relevant recommendation, it is good to have a higher percentage of recurring transactions.\n",
    "\n",
    "This however, is dependent on the domain. Say, if we are only running a online business like Amazon where there can be purchases for books, toys, electronics etc, it is not relevant to get the minsup that is based on the whole transactions. Instead, we want to group the items based on categories and finding the minsup based on those purchases."
   ]
  },
  {
   "cell_type": "code",
   "execution_count": 7,
   "id": "d16ee130-ae28-4ebe-bcde-b9800473e91c",
   "metadata": {
    "tags": []
   },
   "outputs": [
    {
     "data": {
      "text/plain": [
       "0.15"
      ]
     },
     "execution_count": 7,
     "metadata": {},
     "output_type": "execute_result"
    }
   ],
   "source": [
    "3 / len(txs)"
   ]
  },
  {
   "cell_type": "code",
   "execution_count": 8,
   "id": "7d7489cd-695d-46f7-bc0d-018404a65a31",
   "metadata": {
    "tags": []
   },
   "outputs": [],
   "source": [
    "def eclat(txs: list[list[any]], *, k=1, minsup=0.2) -> defaultdict[frozenset[str], int]:\n",
    "    # For each item, keep a list of the transaction ids the item appears in.\n",
    "    ids_by_item = defaultdict(set)\n",
    "\n",
    "    # Invert the mapping, so that the key are items, and values are txids.\n",
    "    for i, tx in enumerate(txs):\n",
    "        for item in tx:\n",
    "            ids_by_item[frozenset([item])].add(i)\n",
    "\n",
    "    # Exclude items that are below min support.\n",
    "    for item, ids in ids_by_item.copy().items():\n",
    "        if len(ids) / len(txs) < minsup:\n",
    "            ids_by_item.pop(item)\n",
    "\n",
    "    result = ids_by_item\n",
    "    while len(ids_by_item) > 0:\n",
    "        tmp = defaultdict(set)\n",
    "\n",
    "        # Combine each items and their transaction ids.\n",
    "        items = combinations(ids_by_item.keys(), r=2)\n",
    "        for item1, item2 in items:\n",
    "            ids1 = ids_by_item.get(item1)\n",
    "            ids2 = ids_by_item.get(item2)\n",
    "\n",
    "            ids = ids1 & ids2\n",
    "            if len(ids) / len(txs) < minsup:\n",
    "                continue\n",
    "\n",
    "            tmp[item1 | item2] = ids\n",
    "\n",
    "        result.update(tmp)\n",
    "        ids_by_item = tmp\n",
    "\n",
    "    confidence_score_by_items = defaultdict(int)\n",
    "\n",
    "    for items in result.copy().keys():\n",
    "        if len(items) < k:\n",
    "            continue\n",
    "\n",
    "        confidence_score_by_items[items] = len(result[items]) / len(txs)\n",
    "\n",
    "    return confidence_score_by_items"
   ]
  },
  {
   "cell_type": "code",
   "execution_count": 9,
   "id": "ed055b69-9752-43d3-9871-c9cd00c68f44",
   "metadata": {
    "tags": []
   },
   "outputs": [
    {
     "data": {
      "text/plain": [
       "defaultdict(int,\n",
       "            {frozenset({'beer', 'potato chips'}): 0.45,\n",
       "             frozenset({'cheese', 'wine'}): 0.35,\n",
       "             frozenset({'eggs', 'flower'}): 0.3,\n",
       "             frozenset({'butter', 'eggs'}): 0.3,\n",
       "             frozenset({'butter', 'flower'}): 0.25,\n",
       "             frozenset({'butter', 'eggs', 'flower'}): 0.25})"
      ]
     },
     "execution_count": 9,
     "metadata": {},
     "output_type": "execute_result"
    }
   ],
   "source": [
    "result = eclat(txs, k=2, minsup=0.2)\n",
    "result"
   ]
  },
  {
   "cell_type": "code",
   "execution_count": 10,
   "id": "9d3b3ee7-9be3-42a6-ab56-08ff2958980f",
   "metadata": {
    "tags": []
   },
   "outputs": [
    {
     "name": "stdout",
     "output_type": "stream",
     "text": [
      "If you buy eggs, then you would buy flower too\n",
      "If you buy eggs, then you would buy butter too\n",
      "If you buy eggs, then you would buy flower, butter too\n"
     ]
    }
   ],
   "source": [
    "item_to_recommend = \"eggs\"\n",
    "\n",
    "for items in result.keys():\n",
    "    if item_to_recommend in items:\n",
    "        recommended_items = list(items - frozenset([item_to_recommend]))\n",
    "        print(\n",
    "            \"If you buy {}, then you would buy {} too\".format(\n",
    "                item_to_recommend,\n",
    "                \", \".join(recommended_items),\n",
    "            )\n",
    "        )"
   ]
  },
  {
   "cell_type": "markdown",
   "id": "c1ddf755-565f-46b1-b425-34ffeaa81848",
   "metadata": {},
   "source": [
    "Actually, since we are interested to know which items are frequently purchased together with a target item, we do not need to generate the frequent itemsets for each transactions, only to toss it later.\n",
    "\n",
    "We can simply filter transactions containing the target item first."
   ]
  },
  {
   "cell_type": "code",
   "execution_count": 11,
   "id": "69e47d7b-306a-46fc-b27f-52b2405cf329",
   "metadata": {
    "tags": []
   },
   "outputs": [
    {
     "name": "stdout",
     "output_type": "stream",
     "text": [
      "7\n"
     ]
    },
    {
     "data": {
      "text/plain": [
       "(None,\n",
       " [['eggs', 'flower', 'butter', 'cheese'],\n",
       "  ['eggs', 'flower', 'butter', 'beer', 'potato chips'],\n",
       "  ['eggs', 'flower', 'butter', 'wine', 'cheese'],\n",
       "  ['eggs', 'flower', 'butter', 'beer', 'potato chips'],\n",
       "  ['butter', 'eggs'],\n",
       "  ['flower', 'eggs'],\n",
       "  ['eggs', 'flower', 'butter', 'wine', 'cheese']])"
      ]
     },
     "execution_count": 11,
     "metadata": {},
     "output_type": "execute_result"
    }
   ],
   "source": [
    "txs_with_eggs = [tx for tx in txs if item_to_recommend in tx]\n",
    "print(len(txs_with_eggs)), txs_with_eggs"
   ]
  },
  {
   "cell_type": "code",
   "execution_count": 20,
   "id": "b1acf6cc-bfd4-4278-83d1-ef9b3131fe7a",
   "metadata": {
    "tags": []
   },
   "outputs": [
    {
     "data": {
      "text/plain": [
       "defaultdict(int,\n",
       "            {frozenset({'butter', 'eggs', 'flower'}): 0.7142857142857143,\n",
       "             frozenset({'cheese', 'eggs', 'flower'}): 0.42857142857142855,\n",
       "             frozenset({'butter',\n",
       "                        'cheese',\n",
       "                        'eggs',\n",
       "                        'flower'}): 0.42857142857142855,\n",
       "             frozenset({'butter', 'cheese', 'eggs'}): 0.42857142857142855,\n",
       "             frozenset({'butter', 'cheese', 'flower'}): 0.42857142857142855})"
      ]
     },
     "execution_count": 20,
     "metadata": {},
     "output_type": "execute_result"
    }
   ],
   "source": [
    "result = eclat(txs_with_eggs, k=3, minsup=0.4)\n",
    "result"
   ]
  },
  {
   "cell_type": "markdown",
   "id": "41fd92de-b8dd-42d3-9950-3cb2bb2f094b",
   "metadata": {},
   "source": [
    "Note that the result may contain combination of items that might not contain `eggs` too. We still need to filter those baskets away."
   ]
  },
  {
   "cell_type": "code",
   "execution_count": 19,
   "id": "97cd88b2-1736-4e0b-b4d9-f53d842c76e3",
   "metadata": {
    "tags": []
   },
   "outputs": [
    {
     "name": "stdout",
     "output_type": "stream",
     "text": [
      "If you buy eggs, then you would buy flower, butter too\n",
      "If you buy eggs, then you would buy flower, cheese too\n",
      "If you buy eggs, then you would buy flower, cheese, butter too\n",
      "If you buy eggs, then you would buy cheese, butter too\n"
     ]
    }
   ],
   "source": [
    "for items in result.keys():\n",
    "    if item_to_recommend in items:\n",
    "        recommended_items = list(items - frozenset([item_to_recommend]))\n",
    "        print(\n",
    "            \"If you buy {}, then you would buy {} too\".format(\n",
    "                item_to_recommend,\n",
    "                \", \".join(recommended_items),\n",
    "            )\n",
    "        )"
   ]
  },
  {
   "cell_type": "code",
   "execution_count": 21,
   "id": "1ae30f36-9495-4700-a253-77bffa70e713",
   "metadata": {
    "tags": []
   },
   "outputs": [
    {
     "data": {
      "text/plain": [
       "defaultdict(int,\n",
       "            {frozenset({'eggs', 'flower'}): 0.8571428571428571,\n",
       "             frozenset({'butter', 'eggs'}): 0.8571428571428571})"
      ]
     },
     "execution_count": 21,
     "metadata": {},
     "output_type": "execute_result"
    }
   ],
   "source": [
    "# At least 80% of the transactions that purchases eggs, purchases butter and flower too.\n",
    "eclat(txs_with_eggs, k=2, minsup=0.8)"
   ]
  }
 ],
 "metadata": {
  "kernelspec": {
   "display_name": "Python 3 (ipykernel)",
   "language": "python",
   "name": "python3"
  },
  "language_info": {
   "codemirror_mode": {
    "name": "ipython",
    "version": 3
   },
   "file_extension": ".py",
   "mimetype": "text/x-python",
   "name": "python",
   "nbconvert_exporter": "python",
   "pygments_lexer": "ipython3",
   "version": "3.9.16"
  }
 },
 "nbformat": 4,
 "nbformat_minor": 5
}
