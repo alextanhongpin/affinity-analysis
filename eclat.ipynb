{
 "cells": [
  {
   "cell_type": "markdown",
   "id": "israeli-metro",
   "metadata": {},
   "source": [
    "# ECLAT Algorithm\n",
    "The ECLAT algorithm stands for _Equivalence Class Clustering and bottom-up Lattice Traversal_. \n",
    "\n",
    "It is one of the popular methods of Association Rule mining. \n",
    "\n",
    "It is a more efficient and scalable version of the Apriori algorithm."
   ]
  },
  {
   "cell_type": "code",
   "execution_count": 1,
   "id": "oriented-transfer",
   "metadata": {},
   "outputs": [],
   "source": [
    "from collections import defaultdict\n",
    "from itertools import chain, combinations\n",
    "from typing import List"
   ]
  },
  {
   "cell_type": "code",
   "execution_count": 2,
   "id": "collective-grenada",
   "metadata": {},
   "outputs": [],
   "source": [
    "txs = [{1, 2, 3, 4}, {1, 2, 4}, {1, 2}, {2, 3, 4}, {2, 3}, {3, 4}, {2, 4}]\n",
    "txs = [\n",
    "    [\"beer\", \"wine\", \"cheese\"],\n",
    "    [\"beer\", \"potato chips\"],\n",
    "    [\"eggs\", \"flower\", \"butter\", \"cheese\"],\n",
    "    [\"eggs\", \"flower\", \"butter\", \"beer\", \"potato chips\"],\n",
    "    [\"wine\", \"cheese\"],\n",
    "    [\"potato chips\"],\n",
    "    [\"eggs\", \"flower\", \"butter\", \"wine\", \"cheese\"],\n",
    "    [\"eggs\", \"flower\", \"butter\", \"beer\", \"potato chips\"],\n",
    "    [\"wine\", \"beer\"],\n",
    "    [\"beer\", \"potato chips\"],\n",
    "    [\"butter\", \"eggs\"],\n",
    "    [\"beer\", \"potato chips\"],\n",
    "    [\"flower\", \"eggs\"],\n",
    "    [\"beer\", \"potato chips\"],\n",
    "    [\"eggs\", \"flower\", \"butter\", \"wine\", \"cheese\"],\n",
    "    [\"beer\", \"wine\", \"potato chips\", \"cheese\"],\n",
    "    [\"wine\", \"cheese\"],\n",
    "    [\"beer\", \"potato chips\"],\n",
    "    [\"wine\", \"cheese\"],\n",
    "    [\"beer\", \"potato chips\"],\n",
    "]"
   ]
  },
  {
   "cell_type": "code",
   "execution_count": 3,
   "id": "duplicate-somalia",
   "metadata": {},
   "outputs": [],
   "source": [
    "def eclat(txs: List[List[any]], *, minsup=2):\n",
    "    ids_by_item = defaultdict(set)\n",
    "\n",
    "    # Invert the mapping, so that the key are items, and values are txids.\n",
    "    for i, tx in enumerate(txs):\n",
    "        for item in tx:\n",
    "            ids_by_item[frozenset([item])].add(i)\n",
    "\n",
    "    # Exclude items that are below min support.\n",
    "    for item, ids in ids_by_item.copy().items():\n",
    "        if len(ids) < minsup:\n",
    "            ids_by_item.pop(item)\n",
    "\n",
    "    result = ids_by_item\n",
    "    while len(ids_by_item) > 0:\n",
    "        tmp = defaultdict(list)\n",
    "\n",
    "        keys = combinations(ids_by_item.keys(), r=2)\n",
    "        for key0, key1 in keys:\n",
    "            ids0 = ids_by_item.get(key0)\n",
    "            ids1 = ids_by_item.get(key1)\n",
    "\n",
    "            ids = ids0 & ids1\n",
    "            if len(ids) < minsup:\n",
    "                continue\n",
    "\n",
    "            tmp[key0 | key1] = ids\n",
    "\n",
    "        result.update(tmp)\n",
    "        ids_by_item = tmp\n",
    "\n",
    "    return result"
   ]
  },
  {
   "cell_type": "code",
   "execution_count": 4,
   "id": "weighted-killer",
   "metadata": {},
   "outputs": [
    {
     "data": {
      "text/plain": [
       "defaultdict(set,\n",
       "            {frozenset({'beer'}): {0, 1, 3, 7, 8, 9, 11, 13, 15, 17, 19},\n",
       "             frozenset({'wine'}): {0, 4, 6, 8, 14, 15, 16, 18},\n",
       "             frozenset({'cheese'}): {0, 2, 4, 6, 14, 15, 16, 18},\n",
       "             frozenset({'potato chips'}): {1, 3, 5, 7, 9, 11, 13, 15, 17, 19},\n",
       "             frozenset({'eggs'}): {2, 3, 6, 7, 10, 12, 14},\n",
       "             frozenset({'beer', 'potato chips'}): {1,\n",
       "              3,\n",
       "              7,\n",
       "              9,\n",
       "              11,\n",
       "              13,\n",
       "              15,\n",
       "              17,\n",
       "              19},\n",
       "             frozenset({'cheese', 'wine'}): {0, 4, 6, 14, 15, 16, 18}})"
      ]
     },
     "execution_count": 4,
     "metadata": {},
     "output_type": "execute_result"
    }
   ],
   "source": [
    "eclat(txs, minsup=7)"
   ]
  }
 ],
 "metadata": {
  "kernelspec": {
   "display_name": "Python 3 (ipykernel)",
   "language": "python",
   "name": "python3"
  },
  "language_info": {
   "codemirror_mode": {
    "name": "ipython",
    "version": 3
   },
   "file_extension": ".py",
   "mimetype": "text/x-python",
   "name": "python",
   "nbconvert_exporter": "python",
   "pygments_lexer": "ipython3",
   "version": "3.9.14"
  }
 },
 "nbformat": 4,
 "nbformat_minor": 5
}
