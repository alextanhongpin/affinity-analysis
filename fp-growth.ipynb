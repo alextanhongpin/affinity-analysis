{
 "cells": [
  {
   "cell_type": "code",
   "execution_count": 18,
   "metadata": {},
   "outputs": [],
   "source": [
    "# From the book Machine Learning in Action"
   ]
  },
  {
   "cell_type": "code",
   "execution_count": 19,
   "metadata": {},
   "outputs": [],
   "source": [
    "class TreeNode:\n",
    "    def __init__(self, value, count, parent):\n",
    "        self.value = value\n",
    "        self.count = count\n",
    "        self.node = None\n",
    "        self.parent = parent\n",
    "        self.children = {}\n",
    "\n",
    "    def inc(self, count):\n",
    "        self.count += count\n",
    "\n",
    "    def disp(self, ind=1):\n",
    "        print(\"  \" * ind, self.value, \" \", self.count)\n",
    "        for child in self.children.values():\n",
    "            child.disp(ind + 1)"
   ]
  },
  {
   "cell_type": "code",
   "execution_count": 20,
   "metadata": {},
   "outputs": [
    {
     "name": "stdout",
     "output_type": "stream",
     "text": [
      "   pyramid   9\n",
      "     eye   13\n"
     ]
    }
   ],
   "source": [
    "# Create a root node\n",
    "root_node = TreeNode(\"pyramid\", 9, None)\n",
    "root_node.children[\"eye\"] = TreeNode(\"eye\", 13, None)\n",
    "root_node.disp()"
   ]
  },
  {
   "cell_type": "code",
   "execution_count": 21,
   "metadata": {},
   "outputs": [
    {
     "name": "stdout",
     "output_type": "stream",
     "text": [
      "   pyramid   9\n",
      "     eye   13\n",
      "     phoenix   3\n"
     ]
    }
   ],
   "source": [
    "root_node.children[\"phoenix\"] = TreeNode(\"phoenix\", 3, None)\n",
    "root_node.disp()"
   ]
  },
  {
   "cell_type": "code",
   "execution_count": 22,
   "metadata": {},
   "outputs": [],
   "source": [
    "def create_tree(dataset, min_support=1):\n",
    "    header_table = {}\n",
    "    # Iterate dataset twice\n",
    "    for trans in dataset:\n",
    "        for item in trans:\n",
    "            header_table[item] = header_table.get(item, 0) + dataset[trans]\n",
    "\n",
    "    # Remove item not meeting min support\n",
    "    header_table_copy = header_table.copy()\n",
    "    for k in header_table_copy.keys():\n",
    "        if header_table[k] < min_support:\n",
    "            del header_table[k]\n",
    "\n",
    "    freq_itemset = set(header_table.keys())\n",
    "    #     print('freq_itemset:', freq_itemset)\n",
    "    if len(freq_itemset) == 0:\n",
    "        return None, None\n",
    "\n",
    "    for k in header_table:\n",
    "        header_table[k] = [header_table[k], None]\n",
    "\n",
    "    # Tree to be returned\n",
    "    ret_tree = TreeNode(\"Null Set\", 1, None)\n",
    "    for trans_set, count in dataset.items():\n",
    "        local = {}\n",
    "        for item in trans_set:\n",
    "            if item in freq_itemset:\n",
    "                local[item] = header_table[item][0]\n",
    "        if len(local) > 0:\n",
    "            ordered_items = [\n",
    "                v[0]\n",
    "                for v in sorted(\n",
    "                    local.items(),\n",
    "                    key=lambda p: (\n",
    "                        p[1],\n",
    "                        p[0],\n",
    "                    ),  # Sort by count first, then sort by alphabet\n",
    "                    reverse=True,\n",
    "                )\n",
    "            ]\n",
    "            update_tree(ordered_items, ret_tree, header_table, count)\n",
    "\n",
    "    return ret_tree, header_table"
   ]
  },
  {
   "cell_type": "code",
   "execution_count": 23,
   "metadata": {},
   "outputs": [],
   "source": [
    "def update_tree(items, in_tree, header_table, count):\n",
    "    if items[0] in in_tree.children:\n",
    "        in_tree.children[items[0]].inc(count)\n",
    "    else:\n",
    "        in_tree.children[items[0]] = TreeNode(items[0], count, in_tree)\n",
    "        if header_table[items[0]][1] == None:\n",
    "            header_table[items[0]][1] = in_tree.children[items[0]]\n",
    "        else:\n",
    "            update_header(header_table[items[0]][1], in_tree.children[items[0]])\n",
    "    if len(items) > 1:\n",
    "        update_tree(items[1::], in_tree.children[items[0]], header_table, count)"
   ]
  },
  {
   "cell_type": "code",
   "execution_count": 24,
   "metadata": {},
   "outputs": [],
   "source": [
    "def update_header(node_to_test, target_node):\n",
    "    while node_to_test.node != None:\n",
    "        node_to_test = node_to_test.node\n",
    "    node_to_test.node = target_node"
   ]
  },
  {
   "cell_type": "code",
   "execution_count": 25,
   "metadata": {},
   "outputs": [],
   "source": [
    "def load_simple_data():\n",
    "    return [\n",
    "        [\"r\", \"z\", \"h\", \"j\", \"p\"],\n",
    "        [\"z\", \"y\", \"x\", \"w\", \"v\", \"u\", \"t\", \"s\"],\n",
    "        [\"z\"],\n",
    "        [\"r\", \"x\", \"n\", \"o\", \"s\"],\n",
    "        [\"y\", \"r\", \"x\", \"z\", \"q\", \"t\", \"p\"],\n",
    "        [\"y\", \"z\", \"x\", \"e\", \"q\", \"s\", \"t\", \"m\"],\n",
    "    ]\n",
    "\n",
    "\n",
    "#     return [['a', 'b', 'c'],\n",
    "#     ['a', 'd', 'e'],\n",
    "#     ['b', 'c', 'd'],\n",
    "#     ['a', 'b', 'c', 'd'],\n",
    "#     ['b', 'c'],\n",
    "#     ['a', 'b', 'd'],\n",
    "#     ['d', 'e'],\n",
    "#     ['a', 'b', 'c', 'd'],\n",
    "#     ['c', 'd', 'e'],\n",
    "#     ['a', 'b', 'c']]"
   ]
  },
  {
   "cell_type": "code",
   "execution_count": 26,
   "metadata": {},
   "outputs": [],
   "source": [
    "def create_initset(dataset):\n",
    "    out = {}\n",
    "    for trans in dataset:\n",
    "        out[frozenset(trans)] = 1\n",
    "    return out"
   ]
  },
  {
   "cell_type": "code",
   "execution_count": 27,
   "metadata": {},
   "outputs": [
    {
     "data": {
      "text/plain": [
       "{frozenset({'z'}): 1,\n",
       " frozenset({'h', 'j', 'p', 'r', 'z'}): 1,\n",
       " frozenset({'s', 't', 'u', 'v', 'w', 'x', 'y', 'z'}): 1,\n",
       " frozenset({'n', 'o', 'r', 's', 'x'}): 1,\n",
       " frozenset({'p', 'q', 'r', 't', 'x', 'y', 'z'}): 1,\n",
       " frozenset({'e', 'm', 'q', 's', 't', 'x', 'y', 'z'}): 1}"
      ]
     },
     "execution_count": 27,
     "metadata": {},
     "output_type": "execute_result"
    }
   ],
   "source": [
    "initset = create_initset(load_simple_data())\n",
    "initset"
   ]
  },
  {
   "cell_type": "code",
   "execution_count": 28,
   "metadata": {},
   "outputs": [
    {
     "name": "stdout",
     "output_type": "stream",
     "text": [
      "   Null Set   1\n",
      "     z   5\n",
      "       r   1\n",
      "       x   3\n",
      "         y   3\n",
      "           t   3\n",
      "             s   2\n",
      "             r   1\n",
      "     x   1\n",
      "       s   1\n",
      "         r   1\n"
     ]
    }
   ],
   "source": [
    "fp_tree, header = create_tree(initset, 3)\n",
    "fp_tree.disp()\n",
    "# header['e'][1].children['m'].value"
   ]
  },
  {
   "cell_type": "code",
   "execution_count": 29,
   "metadata": {},
   "outputs": [],
   "source": [
    "def ascend_tree(leaf_node, prefix_path):\n",
    "    \"\"\"Ascends from leaf node to root\"\"\"\n",
    "    if leaf_node.parent != None:\n",
    "        prefix_path.append(leaf_node.value)\n",
    "        ascend_tree(leaf_node.parent, prefix_path)"
   ]
  },
  {
   "cell_type": "code",
   "execution_count": 30,
   "metadata": {},
   "outputs": [],
   "source": [
    "def find_prefix_path(base_path, tree_node):\n",
    "    \"\"\"Tree node comes from header table\"\"\"\n",
    "    cond_paths = {}\n",
    "    while tree_node != None:\n",
    "        prefix_path = []\n",
    "        ascend_tree(tree_node, prefix_path)\n",
    "        if len(prefix_path) > 1:\n",
    "            cond_paths[frozenset(prefix_path[1:])] = tree_node.count\n",
    "        tree_node = tree_node.node\n",
    "    return cond_paths"
   ]
  },
  {
   "cell_type": "code",
   "execution_count": 31,
   "metadata": {},
   "outputs": [],
   "source": [
    "# find_prefix_path('r', header['r'][1])"
   ]
  },
  {
   "cell_type": "code",
   "execution_count": 32,
   "metadata": {},
   "outputs": [],
   "source": [
    "def mine_tree(in_tree, header_table, min_support, prefix, freq_item_list):\n",
    "    big_list = [v[0] for v in sorted(header_table.items(), key=lambda p: p[1][0])]\n",
    "\n",
    "    for base_path in big_list:\n",
    "        new_freq_set = prefix.copy()\n",
    "        new_freq_set.add(base_path)\n",
    "        freq_item_list.append(new_freq_set)\n",
    "        cond_pattern_bases = find_prefix_path(base_path, header_table[base_path][1])\n",
    "        my_cond_tree, my_head = create_tree(cond_pattern_bases, min_support)\n",
    "\n",
    "        if my_head != None:\n",
    "            print(\"conditional tree for: \", new_freq_set)\n",
    "            my_cond_tree.disp(1)\n",
    "            mine_tree(my_cond_tree, my_head, min_support, new_freq_set, freq_item_list)"
   ]
  },
  {
   "cell_type": "code",
   "execution_count": 33,
   "metadata": {},
   "outputs": [
    {
     "name": "stdout",
     "output_type": "stream",
     "text": [
      "conditional tree for:  {'r'}\n",
      "   Null Set   1\n",
      "     z   2\n",
      "       x   1\n",
      "     x   1\n",
      "conditional tree for:  {'y'}\n",
      "   Null Set   1\n",
      "     z   3\n",
      "       x   3\n",
      "conditional tree for:  {'x', 'y'}\n",
      "   Null Set   1\n",
      "     z   3\n",
      "conditional tree for:  {'s'}\n",
      "   Null Set   1\n",
      "     x   3\n",
      "       z   2\n",
      "         y   2\n",
      "           t   2\n",
      "conditional tree for:  {'s', 'z'}\n",
      "   Null Set   1\n",
      "     x   2\n",
      "conditional tree for:  {'s', 'y'}\n",
      "   Null Set   1\n",
      "     z   2\n",
      "       x   2\n",
      "conditional tree for:  {'s', 'x', 'y'}\n",
      "   Null Set   1\n",
      "     z   2\n",
      "conditional tree for:  {'s', 't'}\n",
      "   Null Set   1\n",
      "     z   2\n",
      "       y   2\n",
      "         x   2\n",
      "conditional tree for:  {'s', 'x', 't'}\n",
      "   Null Set   1\n",
      "     z   2\n",
      "       y   2\n",
      "conditional tree for:  {'s', 'x', 'y', 't'}\n",
      "   Null Set   1\n",
      "     z   2\n",
      "conditional tree for:  {'s', 'y', 't'}\n",
      "   Null Set   1\n",
      "     z   2\n",
      "conditional tree for:  {'t'}\n",
      "   Null Set   1\n",
      "     z   3\n",
      "       y   3\n",
      "         x   3\n",
      "conditional tree for:  {'x', 't'}\n",
      "   Null Set   1\n",
      "     z   3\n",
      "       y   3\n",
      "conditional tree for:  {'x', 'y', 't'}\n",
      "   Null Set   1\n",
      "     z   3\n",
      "conditional tree for:  {'y', 't'}\n",
      "   Null Set   1\n",
      "     z   3\n",
      "conditional tree for:  {'x'}\n",
      "   Null Set   1\n",
      "     z   3\n"
     ]
    }
   ],
   "source": [
    "freq_items = []\n",
    "mine_tree(fp_tree, header, 2, set([]), freq_items)"
   ]
  },
  {
   "cell_type": "code",
   "execution_count": 34,
   "metadata": {},
   "outputs": [
    {
     "data": {
      "text/plain": [
       "[{'r'},\n",
       " {'r', 'z'},\n",
       " {'r', 'x'},\n",
       " {'y'},\n",
       " {'x', 'y'},\n",
       " {'x', 'y', 'z'},\n",
       " {'y', 'z'},\n",
       " {'s'},\n",
       " {'s', 'z'},\n",
       " {'s', 'x', 'z'},\n",
       " {'s', 'y'},\n",
       " {'s', 'x', 'y'},\n",
       " {'s', 'x', 'y', 'z'},\n",
       " {'s', 'y', 'z'},\n",
       " {'s', 't'},\n",
       " {'s', 't', 'x'},\n",
       " {'s', 't', 'x', 'z'},\n",
       " {'s', 't', 'x', 'y'},\n",
       " {'s', 't', 'x', 'y', 'z'},\n",
       " {'s', 't', 'z'},\n",
       " {'s', 't', 'y'},\n",
       " {'s', 't', 'y', 'z'},\n",
       " {'s', 'x'},\n",
       " {'t'},\n",
       " {'t', 'z'},\n",
       " {'t', 'x'},\n",
       " {'t', 'x', 'z'},\n",
       " {'t', 'x', 'y'},\n",
       " {'t', 'x', 'y', 'z'},\n",
       " {'t', 'y'},\n",
       " {'t', 'y', 'z'},\n",
       " {'x'},\n",
       " {'x', 'z'},\n",
       " {'z'}]"
      ]
     },
     "execution_count": 34,
     "metadata": {},
     "output_type": "execute_result"
    }
   ],
   "source": [
    "freq_items"
   ]
  }
 ],
 "metadata": {
  "kernelspec": {
   "display_name": "Python 3 (ipykernel)",
   "language": "python",
   "name": "python3"
  },
  "language_info": {
   "codemirror_mode": {
    "name": "ipython",
    "version": 3
   },
   "file_extension": ".py",
   "mimetype": "text/x-python",
   "name": "python",
   "nbconvert_exporter": "python",
   "pygments_lexer": "ipython3",
   "version": "3.9.16"
  }
 },
 "nbformat": 4,
 "nbformat_minor": 4
}
